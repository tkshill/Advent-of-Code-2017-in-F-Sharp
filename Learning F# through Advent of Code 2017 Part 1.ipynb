{
 "cells": [
  {
   "cell_type": "markdown",
   "metadata": {},
   "source": [
    "**Date: December 7th, 2017**\n",
    "\n",
    "**Created by: Tyrone Kirk Shillingford**\n",
    "\n",
    "The purpose of this notebook is to learn and explore the [F# language](http://fsharp.org/) the following the [Advent of Code 2017](http://adventofcode.com/2017) series. This seems like the most fun way to adjust to the F# syntax and also do some delightful functional programming in the process!\n",
    "\n"
   ]
  },
  {
   "cell_type": "markdown",
   "metadata": {},
   "source": [
    "**First** let's familiarize outself with the question [here](http://adventofcode.com/2017/day/1):\n",
    "\n",
    "Take a moment to read it through... awesome! Now let's see if we can tease some data out of what it says!\n",
    "\n",
    "We have to review a **sequence of digits** (basically a list)*.\n",
    "We have to find the **sum** of all digits that match the **next** digit in the list.\n",
    "The list is **circular**, so the digit after the last digit is the first digit.\n",
    "\n",
    "Hmmm...\n",
    "\n",
    "We need to compare a list value to the value ahead of it. I'm sure there are clever ways to do this, but the easiest way is to simply *make a list that's a duplicate of the first one but with the first element shifted to the back*. \n",
    "\n",
    "Then each element in the first list will match up with the element in the second that we want to compare it against.\n",
    "\n",
    "We can process the lists in comparallel, checking their values and pumping the response into a third list, containing the result of the comparison. \n",
    "\n",
    "\\*Note: When I first attempted this question, I simply assumed that a list of numbers could be used as input. I later realized that the \"sequence\" referred spicifically to a string of digits. I've left the original answer up, but will add an addendum at the bottom with an update for moving from a string of characters into the proposed solution.\n"
   ]
  },
  {
   "cell_type": "code",
   "execution_count": 54,
   "metadata": {
    "collapsed": true
   },
   "outputs": [],
   "source": [
    "let adjustList ( nums : list<int>) : list<int> = List.append nums.Tail [nums.Head]"
   ]
  },
  {
   "cell_type": "markdown",
   "metadata": {},
   "source": [
    "Great. Now we have the function *adjustList* that accepts a list of ints and returns a list of ints. Note that adjustList just takes the first element of the list using the *.Head* attribute and appends it to the rest of the list (found using the *.Tail* attribute)\n",
    "\n",
    "Now here's our plan. Since we want to just add up the numbers at the end, we can just use *List.map2* which will take the corresponding elements of the two lists, and apply them to a function, and put the results of that function in a list themselves. \n",
    "\n",
    "So now we need to make a function that can accept two integers, and return the first integer if they match, or zero if they dont (since adding zero wont change our final answer).\n"
   ]
  },
  {
   "cell_type": "code",
   "execution_count": 55,
   "metadata": {
    "collapsed": true
   },
   "outputs": [],
   "source": [
    "let compareInts (shifted : int ) ( orig : int ) : int = if shifted = orig then orig else 0"
   ]
  },
  {
   "cell_type": "markdown",
   "metadata": {},
   "source": [
    "Awesomeness. The function compareInts will take two integers and either return one of them (if they match) or zero.\n",
    "\n",
    "Now to simply make a function that puts it all together!"
   ]
  },
  {
   "cell_type": "code",
   "execution_count": 56,
   "metadata": {},
   "outputs": [],
   "source": [
    "let adventOfCode1 ( input : list<int> ) : int = input |> List.map2 compareInts (adjustList input) |> List.sum"
   ]
  },
  {
   "cell_type": "markdown",
   "metadata": {},
   "source": [
    "That should do it. The function adventOfCode's type signature says it accepts a list of integers and returns a sinlge one, which is what we want. That list, called input is fed in our List.map2 function, which itself has three parameters; the compareInts function, the adjusted input, and the original input. The resulting list is then fed into the List.sum function, which will produce our intended result. \n",
    "\n",
    "Let's check it out!"
   ]
  },
  {
   "cell_type": "code",
   "execution_count": 57,
   "metadata": {},
   "outputs": [
    {
     "data": {
      "text/plain": [
       "12"
      ]
     },
     "execution_count": 57,
     "metadata": {},
     "output_type": "execute_result"
    }
   ],
   "source": [
    "let input = [ 1; 2; 4; 4; 5; 7; 7; 8; 1 ]\n",
    "\n",
    "adventOfCode1 input"
   ]
  },
  {
   "cell_type": "markdown",
   "metadata": {},
   "source": [
    "Hurrah! Sweet success. There are three matching pairs... the 4s, the 7s and the first and last 1s... 4 + 7 + 1 = 12\n",
    "\n",
    "But what happens if we get a string as input as opposed to a list? \n",
    "\n",
    "Let define a few extra functions to get this going. _Seq.toList_ should be able to handle getting our string to be a list of characters. So we just need to make a function that can take a character and return a string.\n"
   ]
  },
  {
   "cell_type": "code",
   "execution_count": 58,
   "metadata": {
    "collapsed": true
   },
   "outputs": [],
   "source": [
    "let convertToInt (stringInput : char ) : int = (int stringInput - 48)"
   ]
  },
  {
   "cell_type": "markdown",
   "metadata": {},
   "source": [
    "That should do the trick. The _int_ function casts the strings that come in to int*.\n",
    "\n",
    "\\* We should note here that this code simply assumes the input will *always* be numerals that can be converted to strings. In production code, the input string would have to be validated before passed to the rest of the functions. For now though we'll assume that everything is fine.\n",
    "\n",
    "\n",
    "Let's see if we can stack this in front of our previous functions."
   ]
  },
  {
   "cell_type": "code",
   "execution_count": 59,
   "metadata": {
    "collapsed": true
   },
   "outputs": [],
   "source": [
    "let adventOfCode1Alt (input : string ) : int = \n",
    "    let newList = input |> Seq.toList |> List.map convertToInt \n",
    "    newList |> List.map2 compareInts (adjustList newList) |> List.sum"
   ]
  },
  {
   "cell_type": "markdown",
   "metadata": {},
   "source": [
    "Now let's give this new function a try!"
   ]
  },
  {
   "cell_type": "code",
   "execution_count": 60,
   "metadata": {},
   "outputs": [
    {
     "data": {
      "text/plain": [
       "26"
      ]
     },
     "execution_count": 60,
     "metadata": {},
     "output_type": "execute_result"
    }
   ],
   "source": [
    "adventOfCode1Alt \"34564785574687999646483\""
   ]
  }
 ],
 "metadata": {
  "kernelspec": {
   "display_name": "F#",
   "language": "fsharp",
   "name": "ifsharp"
  },
  "language": "fsharp",
  "language_info": {
   "codemirror_mode": "",
   "file_extension": ".fs",
   "mimetype": "text/x-fsharp",
   "name": "fsharp",
   "nbconvert_exporter": "",
   "pygments_lexer": "",
   "version": "4.3.1.0"
  }
 },
 "nbformat": 4,
 "nbformat_minor": 2
}
