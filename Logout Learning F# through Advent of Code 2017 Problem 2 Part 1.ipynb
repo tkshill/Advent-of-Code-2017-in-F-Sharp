{
 "cells": [
  {
   "cell_type": "markdown",
   "metadata": {},
   "source": [
    "Welcome to Problem 2 Part 1 of the series where I try to solve all the [Advent of Code 2017](http://adventofcode.com/2017/about/) challenges and learn F# at the same time!\n",
    "\n",
    "Unlike the last time, we'll use the input provided to me by the website directly. In this problem, we start with data arranged in several rows.\n",
    "\n",
    "Let's add the input data."
   ]
  },
  {
   "cell_type": "code",
   "execution_count": 36,
   "metadata": {
    "collapsed": true
   },
   "outputs": [],
   "source": [
    "open System\n",
    "\n",
    "let input = \"121\t59\t141\t21\t120\t67\t58\t49\t22\t46\t56\t112\t53\t111\t104\t130\n",
    "1926\t1910\t760\t2055\t28\t2242\t146\t1485\t163\t976\t1842\t1982\t137\t1387\t162\t789\n",
    "4088\t258\t2060\t1014\t4420\t177\t4159\t194\t2794\t4673\t4092\t681\t174\t2924\t170\t3548\n",
    "191\t407\t253\t192\t207\t425\t580\t231\t197\t382\t404\t472\t164\t571\t500\t216\n",
    "4700\t1161\t168\t5398\t5227\t5119\t252\t2552\t4887\t5060\t1152\t3297\t847\t4525\t220\t262\n",
    "2417\t992\t1445\t184\t554\t2940\t209\t2574\t2262\t1911\t2923\t204\t2273\t2760\t506\t157\n",
    "644\t155\t638\t78\t385\t408\t152\t360\t588\t618\t313\t126\t172\t220\t217\t161\n",
    "227\t1047\t117\t500\t1445\t222\t29\t913\t190\t791\t230\t1281\t1385\t226\t856\t1380\n",
    "436\t46\t141\t545\t122\t86\t283\t124\t249\t511\t347\t502\t168\t468\t117\t94\n",
    "2949\t3286\t2492\t2145\t1615\t159\t663\t1158\t154\t939\t166\t2867\t141\t324\t2862\t641\n",
    "1394\t151\t90\t548\t767\t1572\t150\t913\t141\t1646\t154\t1351\t1506\t1510\t707\t400\n",
    "646\t178\t1228\t1229\t270\t167\t161\t1134\t193\t1312\t1428\t131\t1457\t719\t1288\t989\n",
    "1108\t1042\t93\t140\t822\t124\t1037\t1075\t125\t941\t1125\t298\t136\t94\t135\t711\n",
    "112\t2429\t1987\t2129\t2557\t1827\t477\t100\t78\t634\t352\t1637\t588\t77\t1624\t2500\n",
    "514\t218\t209\t185\t197\t137\t393\t555\t588\t569\t710\t537\t48\t309\t519\t138\n",
    "1567\t3246\t4194\t151\t3112\t903\t1575\t134\t150\t4184\t3718\t4077\t180\t4307\t4097\t1705\""
   ]
  },
  {
   "cell_type": "markdown",
   "metadata": {},
   "source": [
    "Awesome. Time to break down the problem. [Here's](http://adventofcode.com/2017/day/2)\n",
    "\n",
    "Now according to the problem, **for each row in the data**, we want to find **the difference between the highest value and the lowest value.**  Then, once we find those value, we need to sum them together. Parts of this feel similar to Problem 1 part one. \n",
    "\n",
    "Let's start with getting the data into a more usable form. Using the *.Split()* method of a string we can separate it into an array of smaller strings. While it has an optional input parameter, using *.split()* with no parameters automatically separates the string by whitespace, which is what we want. \n",
    "\n",
    "For the sake of maintaining our functional style, we'll wrap this method in a function."
   ]
  },
  {
   "cell_type": "code",
   "execution_count": 37,
   "metadata": {
    "collapsed": true
   },
   "outputs": [],
   "source": [
    "let stringSplit (input:string) : string[] = \n",
    "    input.Split()"
   ]
  },
  {
   "cell_type": "markdown",
   "metadata": {},
   "source": [
    "That was easy. The function stringSplit accepts a string and returns an array of strings. Under the hood, we can see it's really F#'s Object Oriented side, but to the rest of our program, this is regular function (and that's just the way we like it).\n",
    "\n",
    "Now we need a function to actually separate the data into it's respective rows. "
   ]
  },
  {
   "cell_type": "code",
   "execution_count": 38,
   "metadata": {
    "collapsed": true
   },
   "outputs": [],
   "source": [
    "let rec separateBy (rowLength:int) (data: list<int>) : list<list<int>> = \n",
    "    match data with\n",
    "    | [] -> []\n",
    "    | _ ->\n",
    "        let endPoint = rowLength - 1\n",
    "        let arrayHead = data.[0..endPoint] \n",
    "        let arrayRest = data.[rowLength..]\n",
    "        \n",
    "        arrayHead :: (separateBy rowLength arrayRest)"
   ]
  },
  {
   "cell_type": "markdown",
   "metadata": {},
   "source": [
    "Okay, there's a lot of new stuff going on, so let's break it down.\n",
    "\n",
    "*Firstly*, we see the word *rec* in front of our function name. This means the function is *recursive* (it will call itself at some point). Recursive functions can be a bit tricky, but you mainly just need to ensure that **the recursion always has a way to end.** Otherwise the function will call itself forever.\n",
    "\n",
    "*Secondly*, we see that the function accepts an int and a list of ints and returns a list that itself **contains lists of ints**. This should seem strange to you, as we were just talking about an array of strings. It turns out it's fairly easy to go from an array of one primitive value to a list of another primitive value. Since I prefer working with lists and the problem requires integers, I've decided to write this as if I've already done the conversions. We'll see exactly how this works in the final function.\n",
    "\n",
    "*Thirdly*, we get to use the **match** keyword. Match allows us to compare data to a series of possibilities, and whichever the data matches, that branch gets executed.\n",
    "\n",
    "Now to explain what separateBy is doing. The logic goes like this:\n",
    "\n",
    "- If separateBy gets an empty list, it returns an empty list.\n",
    "- If separateBy does not get an empty list, it places a list of the first 16 elements at the front of the list, and **calls itself again on the rest of the list**\n",
    "\n",
    "The end result is a list that where each element is a list of 16 integers. These are our rows. There's a few problems with this function, mainly that it assumes that the input list always has a number of elements that's a multiple of 16, but again, tweaks will come later.\n",
    "\n",
    "We need one more custom function, and that's the one to actually find the difference between the largest and smallest values in the row."
   ]
  },
  {
   "cell_type": "code",
   "execution_count": 39,
   "metadata": {
    "collapsed": true
   },
   "outputs": [],
   "source": [
    "let rowDiffer (row : list<int>) : int = \n",
    "    (Seq.max row) - (Seq.min row) "
   ]
  },
  {
   "cell_type": "markdown",
   "metadata": {},
   "source": [
    "rowDiffer is pretty straight forward. It makes heavy use of the **Seq** library, which is short for sequence, and contains a variety of functions that work on anything that's expresses the **Inumerable** interface (Seq function work on anything that  can be counted basically)\n",
    "\n",
    "*Seq.max* finds the largest value in the sequence. *Seq.min* finds the lowest. Then we just subtract the two numbers.\n",
    "\n",
    "Now we need to make one function that can put these all together!"
   ]
  },
  {
   "cell_type": "code",
   "execution_count": 40,
   "metadata": {},
   "outputs": [
    {
     "data": {
      "text/plain": [
       "32121"
      ]
     },
     "execution_count": 40,
     "metadata": {},
     "output_type": "execute_result"
    }
   ],
   "source": [
    "let adventOfCode2 (rows:int) (data:string) = \n",
    "    data\n",
    "        |> stringSplit \n",
    "        |> Array.toList\n",
    "        |> List.map (fun x -> System.Int32.Parse x) // turns string numbers to integers. A bit more resilient than 'int'\n",
    "        |> separateBy rows\n",
    "        |> Seq.sumBy rowDiffer\n",
    "\n",
    "adventOfCode2 16 input"
   ]
  },
  {
   "cell_type": "markdown",
   "metadata": {},
   "source": [
    "And here we are. *adventOfCode2* takes an int representing the length of each row and the data to be processed. \n",
    "\n",
    "It splits the string into an array of strings.\n",
    "\n",
    "It converts that array to a list of strings.\n",
    "\n",
    "It maps that list of strings to a list of numbers.\n",
    "\n",
    "It separates that list into rows base on the rows integer provided.\n",
    "\n",
    "Finally it uses **Seq.sumBy** to add up the numbers provided by *rowDiffer* on each row. \n",
    "\n",
    "Sweet success.\n",
    "\n",
    "Follow up here would be probably trimminng the type conversion (lists over arrays is probably unnecessary... ). The *separateBy* function could also be made more generic, allowing for any sequence... as well as being changed so the program wont complain if the number of integers isnt a multiple of 16.\n",
    "\n",
    "Anyway, thanks for stopping by. "
   ]
  }
 ],
 "metadata": {
  "kernelspec": {
   "display_name": "F#",
   "language": "fsharp",
   "name": "ifsharp"
  },
  "language": "fsharp",
  "language_info": {
   "codemirror_mode": "",
   "file_extension": ".fs",
   "mimetype": "text/x-fsharp",
   "name": "fsharp",
   "nbconvert_exporter": "",
   "pygments_lexer": "",
   "version": "4.3.1.0"
  }
 },
 "nbformat": 4,
 "nbformat_minor": 2
}
