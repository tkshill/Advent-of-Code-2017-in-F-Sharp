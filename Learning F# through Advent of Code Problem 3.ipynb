{
 "cells": [
  {
   "cell_type": "markdown",
   "metadata": {},
   "source": [
    "Learning F# "
   ]
  },
  {
   "cell_type": "code",
   "execution_count": 1,
   "metadata": {},
   "outputs": [],
   "source": [
    "let generateSquare (min:int) (max:int): int seq = \n",
    "    Seq.append {(max-1)..(-1)..min} {(min+1)..max}\n",
    "    |> (fun x -> seq { for i in 1..4 do yield! x } )\n",
    "\n",
    "let rec squareBuilder ((goal, acc, min, max):int*int*int*int) : int seq =\n",
    "    match (goal <= acc) with \n",
    "    | true -> Seq.empty\n",
    "    | _ -> \n",
    "        let newSquare = generateSquare min max\n",
    "        squareBuilder (goal, (acc + Seq.length newSquare), (min+1), (max+2))\n",
    "        |> Seq.append newSquare\n",
    "    \n",
    "let adventOfCode (goal:int) : int = \n",
    "   \n",
    "    squareBuilder (goal, 0, 1, 2)\n",
    "    |> Seq.toList\n",
    "    |> (fun distanceList -> distanceList.[goal-2])\n",
    "    \n"
   ]
  },
  {
   "cell_type": "code",
   "execution_count": 2,
   "metadata": {},
   "outputs": [
    {
     "data": {
      "text/plain": [
       "475"
      ]
     },
     "execution_count": 2,
     "metadata": {},
     "output_type": "execute_result"
    }
   ],
   "source": [
    "adventOfCode 277678"
   ]
  },
  {
   "cell_type": "code",
   "execution_count": 3,
   "metadata": {},
   "outputs": [
    {
     "data": {
      "text/plain": [
       "[1; 2; 1; 2; 1; 2; 1; 2; 3; 2; 3; 4; 3; 2; 3; 4; 3; 2; 3; 4; 3; 2; 3; 4; 5; 4; 3;\n",
       " 4; 5; 6; 5; 4; 3; 4; 5; 6; 5; 4; 3; 4; 5; 6; 5; 4; 3; 4; 5; 6; 7; 6; 5; 4; 5; 6;\n",
       " 7; 8; 7; 6; 5; 4; 5; 6; 7; 8; 7; 6; 5; 4; 5; 6; 7; 8; 7; 6; 5; 4; 5; 6; 7; 8; 9;\n",
       " 8; 7; 6; 5; 6; 7; 8; 9; 10; 9; 8; 7; 6; 5; 6; 7; 8; 9; 10; ...]"
      ]
     },
     "execution_count": 3,
     "metadata": {},
     "output_type": "execute_result"
    }
   ],
   "source": [
    "squareBuilder (100, 0, 1, 2) |> Seq.toList"
   ]
  },
  {
   "cell_type": "code",
   "execution_count": 4,
   "metadata": {
    "collapsed": true
   },
   "outputs": [],
   "source": [
    "type Movement = Up | Left | Down | Right"
   ]
  },
  {
   "cell_type": "code",
   "execution_count": 5,
   "metadata": {
    "collapsed": true
   },
   "outputs": [],
   "source": [
    "let advanceMovement (movement:Movement) : Movement =\n",
    "    match movement with\n",
    "    | Up -> Left\n",
    "    | Left -> Down\n",
    "    | Down -> Right\n",
    "    | Right -> Up\n",
    "    "
   ]
  },
  {
   "cell_type": "code",
   "execution_count": 6,
   "metadata": {
    "collapsed": true
   },
   "outputs": [],
   "source": [
    "type Point = int*int"
   ]
  },
  {
   "cell_type": "code",
   "execution_count": 7,
   "metadata": {
    "collapsed": true
   },
   "outputs": [],
   "source": [
    "type Item = Point*int"
   ]
  },
  {
   "cell_type": "code",
   "execution_count": 8,
   "metadata": {
    "collapsed": true
   },
   "outputs": [],
   "source": [
    "let findVal (items:Item seq) (point:Point) : int =\n",
    "    items\n",
    "    |> Seq.find (fun (item, _) -> if item = point then true else false) \n",
    "    |> (fun (_, num) -> num)"
   ]
  },
  {
   "cell_type": "code",
   "execution_count": 9,
   "metadata": {},
   "outputs": [],
   "source": [
    "let getVal ((x, y):Point) (items:Item seq) : Item = \n",
    "    seq [(x+1, y); (x+1, y+1); (x, y+1); (x-1, y+1); (x-1, y); (x-1, y-1); (x, y-1); (x+1, y-1);]\n",
    "    |> Seq.map (findVal items)\n",
    "    |> Seq.sum\n",
    "    |> (fun num -> (x,y), num)\n",
    "    "
   ]
  },
  {
   "cell_type": "code",
   "execution_count": 10,
   "metadata": {},
   "outputs": [],
   "source": [
    "let updatePoint (movement:Movement) (point:Point) : Point =\n",
    "    match movement with\n",
    "    | Up -> point |> (fun (x, y) -> x, y+1)\n",
    "    | Left -> point |> (fun (x, y) -> x-1, y)\n",
    "    | Down -> point |> (fun (x, y) -> x, y-1)\n",
    "    | Right -> point |> (fun (x, y) -> x+1, y)"
   ]
  },
  {
   "cell_type": "code",
   "execution_count": 11,
   "metadata": {},
   "outputs": [],
   "source": [
    "let subFolder ((moveState, itemState):Movement*Item seq) (num:int) : Movement*Item seq =\n",
    "    \n",
    "    let newPoint = \n",
    "        Seq.last itemState \n",
    "        |> (fun (point, _) -> point)\n",
    "        |> updatePoint moveState\n",
    "    \n",
    "    let newItem = \n",
    "        getVal newPoint itemState\n",
    "    \n",
    "    newItem\n",
    "    |> Seq.singleton\n",
    "    |> Seq.append itemState\n",
    "    |> (fun x -> (moveState, x))\n"
   ]
  },
  {
   "cell_type": "code",
   "execution_count": 12,
   "metadata": {},
   "outputs": [],
   "source": [
    "let folder (num:int) ((moveState, pointState):Movement*Item seq)  : Movement*Item seq =\n",
    "    \n",
    "    let (fstMove, fstPoints) = Seq.fold subFolder (advanceMovement moveState, pointState) {1..num}\n",
    "    \n",
    "    let (newMove, sndPoints) = Seq.fold subFolder (advanceMovement fstMove, fstPoints) {1..num}\n",
    "    \n",
    "    (newMove, sndPoints)\n",
    "    \n",
    "    "
   ]
  },
  {
   "cell_type": "code",
   "execution_count": 21,
   "metadata": {},
   "outputs": [],
   "source": [
    "let adventOfCode3 (limit:int) : Item = \n",
    "    let infiniSeq = Seq.initInfinite (fun index -> index + 1)\n",
    "    \n",
    "    let helper ((_, num):Item) : bool = \n",
    "        if num > limit then \n",
    "            true \n",
    "        else \n",
    "            false\n",
    "    \n",
    "    (Down, Seq.singleton ((0,0), 0))\n",
    "    |> Seq.foldBack folder infiniSeq\n",
    "    |> (fun (_, items) -> Seq.find helper items)\n"
   ]
  },
  {
   "cell_type": "code",
   "execution_count": null,
   "metadata": {},
   "outputs": [],
   "source": [
    "adventOfCode3 5"
   ]
  }
 ],
 "metadata": {
  "kernelspec": {
   "display_name": "F#",
   "language": "fsharp",
   "name": "ifsharp"
  },
  "language": "fsharp",
  "language_info": {
   "codemirror_mode": "",
   "file_extension": ".fs",
   "mimetype": "text/x-fsharp",
   "name": "fsharp",
   "nbconvert_exporter": "",
   "pygments_lexer": "",
   "version": "4.3.1.0"
  }
 },
 "nbformat": 4,
 "nbformat_minor": 2
}
